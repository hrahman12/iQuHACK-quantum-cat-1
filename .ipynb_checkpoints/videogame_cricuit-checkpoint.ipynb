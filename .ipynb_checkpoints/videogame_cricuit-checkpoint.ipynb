{
 "cells": [
  {
   "attachments": {},
   "cell_type": "markdown",
   "id": "ab0c0e26",
   "metadata": {},
   "source": [
    "# Purple Cats\n",
    "\n",
    "## Objective\n",
    "\n",
    "This videogame aims to learn how a quantum circuit works and to do additions and subtractions from Draper's method, as we believe that with an application can help people learn about quantum computation.\n",
    "\n",
    "## Context\n",
    "In a laboratory dedicated to problems of quantum mechanics they have 5 cats as pets, some are green and others are purple. One of the research experiments were in several boxes called QFT, QFT$^{-1}$ and P with certain dephase, one day when they left the cats they forgot to keep the boxes in a place where the cats could not see them, consequently the cats got into the boxes and when the researchers arrived they realized that the cats were green. In this game we must consider the proper way to arrange the boxes in such a way that we find the purple cats in a specific porden since they only know the number of the cat by the collar they wear. \n",
    "\n",
    "\n",
    "![init_cats](videogame_Img/init_cat.png)\n"
   ]
  },
  {
   "attachments": {},
   "cell_type": "markdown",
   "id": "d03f849f",
   "metadata": {},
   "source": [
    "# Rules\n",
    "\n",
    "\n",
    "At the time the cats were found, only two boxes QFT and QFT$^{-1}$ were not moved, the first one at the beginning and the second one at the end, as shown in the following figure.\n",
    "\n",
    "![template](videogame_Img/template.png)\n",
    "\n",
    "\n",
    "\n",
    "You have the following boxes in an unordered manner:\n",
    "\n",
    "- 5 box with $P({\\pi})$\n",
    "- 4 box with $P(\\frac{\\pi}{2})$\n",
    "- 3 box with $P(\\frac{\\pi}{4})$\n",
    "- 2 box with $P(\\frac{\\pi}{8})$\n",
    "- 1 box with $P(\\frac{\\pi}{16})$\n",
    "\n",
    "\n",
    "\n",
    "Find the way to find the purple cats by following the structure , where the boxes must be arranged in a row order for the cats, it is also possible that not all boxes can be used.\n",
    "\n",
    "\n",
    "You can select or not to put one or more boxes\n",
    "\n"
   ]
  },
  {
   "attachments": {},
   "cell_type": "markdown",
   "id": "38ded684",
   "metadata": {},
   "source": [
    "## Hints\n",
    "\n",
    "The researchers found the following 4 answers, with this information helping to find purple cats.\n",
    "\n",
    "\n",
    "\n",
    "![ex_10000](videogame_Img/ex_10000.png)\n"
   ]
  },
  {
   "attachments": {},
   "cell_type": "markdown",
   "id": "75b121e6",
   "metadata": {},
   "source": [
    "![ex_01000](videogame_Img/ex_01000.png)\n"
   ]
  },
  {
   "attachments": {},
   "cell_type": "markdown",
   "id": "4271c794",
   "metadata": {},
   "source": [
    "![ex_00100](videogame_Img/ex_00100.png)\n"
   ]
  },
  {
   "attachments": {},
   "cell_type": "markdown",
   "id": "36cae710",
   "metadata": {},
   "source": [
    "![ex_00010](videogame_Img/ex_00010.png)\n"
   ]
  },
  {
   "attachments": {},
   "cell_type": "markdown",
   "id": "2f427260",
   "metadata": {},
   "source": [
    "![ex_00001](videogame_Img/ex_00001.png)\n"
   ]
  },
  {
   "cell_type": "markdown",
   "id": "13b4ab44",
   "metadata": {},
   "source": [
    "### Code to choose the random value\n",
    "\n",
    "\n",
    "Using the noise model methods of qiskit we can added some noise like i na real hardware and general a quantum circuit using Hadamards and Cnots gates to generate a random circuit. With the nosie model we cam  consider the noise in the gates X"
   ]
  },
  {
   "cell_type": "code",
   "execution_count": 291,
   "id": "3e1abfb2",
   "metadata": {},
   "outputs": [],
   "source": [
    "import numpy as np\n",
    "\n",
    "# Qiskit libraries \n",
    "from qiskit import QuantumCircuit, transpile, Aer, IBMQ, execute, QuantumRegister, ClassicalRegister\n",
    "from qiskit.tools.jupyter import *\n",
    "from qiskit.visualization import *\n",
    "from qiskit.circuit.library import QFT\n",
    "#Nosie model\n",
    "from qiskit.providers.aer.noise import NoiseModel\n",
    "from qiskit.providers.aer.noise import QuantumError, ReadoutError\n",
    "from qiskit.providers.aer.noise import pauli_error"
   ]
  },
  {
   "cell_type": "code",
   "execution_count": 465,
   "id": "5dd8bf79",
   "metadata": {},
   "outputs": [],
   "source": [
    "def noise_model(): # generate the noise model\n",
    "    p_gate1 = 0.1\n",
    "\n",
    "    # QuantumError objects\n",
    "    error_gate1 = pauli_error([('X',p_gate1), ('I', 1 - p_gate1)])\n",
    "    error_gate2 = error_gate1.tensor(error_gate1)\n",
    "\n",
    "    # Add errors to noise model\n",
    "    noise_bit_flip = NoiseModel()\n",
    "    noise_bit_flip.add_all_qubit_quantum_error(error_gate1, [\"u\"])\n",
    "    noise_bit_flip.add_all_qubit_quantum_error(error_gate2, [\"cx\"])\n",
    "\n",
    "    return noise_bit_flip\n",
    "\n",
    "# generate the circuti that do a QRNG\n",
    "def random_number(): \n",
    "    \n",
    "    # we  works with a generator of range (1,31)\n",
    "    # is improtant works with 5 qubits\n",
    "    circ = QuantumCircuit(5) \n",
    "    simulator = Aer.get_backend('qasm_simulator')\n",
    "\n",
    "    #QRNS Circuit and we do 9 times\n",
    "    for i in range(9):\n",
    "        # if we put H in q0 some case we can obtain 0 in the output\n",
    "        #for this reason we  put X\n",
    "        circ.x(0) \n",
    "        circ.h(1)\n",
    "        circ.h(2)\n",
    "        circ.h(3)\n",
    "        circ.h(4)\n",
    "        circ.cx(0,1)\n",
    "        circ.cx(0,2)\n",
    "        circ.cx(0,3)\n",
    "        circ.cx(0,4)\n",
    "        circ.cx(1,2)\n",
    "        circ.cx(1,3)\n",
    "        circ.barrier()\n",
    "\n",
    "    circ.measure_all() # measure all the qubirs\n",
    "\n",
    "    # Consider the nosie model\n",
    "    noise_m = noise_model()\n",
    "    \n",
    "    #get output\n",
    "    job = execute(circ, simulator,\n",
    "              basis_gates=noise_m.basis_gates,#qiskit identify the basis gates\n",
    "                                            # where the qc works\n",
    "              noise_model=noise_m, shots= 1) # we put the noise in the noise model\n",
    "    counts = job.result().get_counts(0)\n",
    "\n",
    "\n",
    "    num=list(counts.keys())[0]   \n",
    "\n",
    "    return num"
   ]
  },
  {
   "cell_type": "markdown",
   "id": "9fadab6e",
   "metadata": {},
   "source": [
    "### proof the random number\n",
    "\n",
    "We can call the method random_number() and return a bitstring with the expect output, where \n",
    "- 0 is equal a green cat\n",
    "- 1 is equal a purple cat"
   ]
  },
  {
   "cell_type": "code",
   "execution_count": 470,
   "id": "b3cffb67",
   "metadata": {},
   "outputs": [
    {
     "data": {
      "text/plain": [
       "'01010'"
      ]
     },
     "execution_count": 470,
     "metadata": {},
     "output_type": "execute_result"
    }
   ],
   "source": [
    "purple_cats_numer = random_number()\n",
    "purple_cats_numer"
   ]
  },
  {
   "cell_type": "markdown",
   "id": "a80fa6dc",
   "metadata": {},
   "source": [
    "## Design the algorithm for the videogames\n",
    "\n",
    "We following the idea of the Draper addition, is neccesary use the QFT and  the inverse QFT, and for generate the data we can use the gates P, this is\n",
    "\n",
    "$$\\begin{split}P(\\lambda) =\n",
    "    \\begin{pmatrix}\n",
    "        1 & 0 \\\\\n",
    "        0 & e^{i\\lambda}\n",
    "    \\end{pmatrix}\\end{split}$$\n",
    "    \n",
    "    \n",
    "Whit this in a certain order of  $\\lambda$ is important consider the next expression \n",
    "\n",
    "$$e^{i 2 \\pi / 2^{n}}$$\n",
    "\n",
    "\n",
    "- if $n = 1$ we can obtain  $e^{i  \\pi }$\n",
    "\n",
    "- if $n = 2$ we can obtain  $e^{i  \\frac{\\pi} {2}}$\n",
    "\n",
    "- if $n = 3$ we can obtain  $e^{i  \\frac{\\pi} {4}}$\n",
    "\n",
    "- if $n = 4$ we can obtain  $e^{i  \\frac{\\pi} {8}}$\n",
    "\n",
    "- if $n = 5$ we can obtain  $e^{i  \\frac{\\pi} {16}}$\n",
    "\n",
    "and we only have 5 cats, so is the same values for the boxes"
   ]
  },
  {
   "cell_type": "code",
   "execution_count": 505,
   "id": "013101a4",
   "metadata": {},
   "outputs": [],
   "source": [
    "#convert  integer value to bin value for the quantum circuit\n",
    "def add_value(qc,data_qubits,const): \n",
    "    #a = bin(const)[2:]\n",
    "    #while len(a) < data_qubits:\n",
    "    #    a = '0'+a\n",
    "    a=const[::-1]\n",
    "    list_a = [0]*data_qubits\n",
    "    for i in range(data_qubits): \n",
    "        if a[i] =='1':\n",
    "            k = 0\n",
    "            for j in range(i,data_qubits):\n",
    "                list_a[data_qubits-j-1] +=np.pi/float(2**(k)) \n",
    "                k+=1\n",
    "\n",
    "    for i in range(data_qubits):\n",
    "        if list_a[i] != 0:\n",
    "            qc.p(list_a[i],i)\n",
    "            k+=1\n"
   ]
  },
  {
   "cell_type": "code",
   "execution_count": 506,
   "id": "2610a7c5",
   "metadata": {},
   "outputs": [],
   "source": [
    "def find_purple_cats(pi,pi_2,pi_4,pi_8,pi_16,flag=False):\n",
    "    num_cats = 5\n",
    "    quantum_cats = QuantumRegister(num_cats, \"data\")\n",
    "    purple_cats = ClassicalRegister(num_cats,\"oracle\")\n",
    "    qc = QuantumCircuit(quantum_cats,purple_cats)\n",
    "\n",
    "    len_pi = len(pi)\n",
    "    len_pi_2 = len(pi_2)\n",
    "    len_pi_4 = len(pi_4)\n",
    "    len_pi_8 = len(pi_8)\n",
    "    len_pi_16 = len(pi_16)\n",
    "\n",
    "    qc.h(range(num_cats))\n",
    "    \n",
    "    if flag: \n",
    "        add_value(qc,5, random_number())\n",
    "    for i in range(len_pi-1,-1,-1):\n",
    "        if pi[i]!= 0 :\n",
    "            qc.p(pi[i]*np.pi,i)\n",
    "            \n",
    "    for i in range(len_pi_2-1,-1,-1):\n",
    "        if pi_2[i]!= 0 :\n",
    "            qc.p(pi_2[i]*np.pi/2,i)\n",
    "            \n",
    "    for i in range(len_pi_4-1,-1,-1):\n",
    "        if pi_4[i]!= 0 :\n",
    "            qc.p(pi_4[i]*np.pi/4,i)\n",
    "\n",
    "            \n",
    "    for i in range(len_pi_8-1,-1,-1):\n",
    "        if pi_8[i]!= 0 :\n",
    "            qc.p(pi_8[i]*np.pi/8,i)\n",
    "            \n",
    "            \n",
    "    for i in range(len_pi_16-1,-1,-1):\n",
    "        if pi_16[i]!= 0 :\n",
    "            qc.p(pi_16[i]*np.pi/16,i)   \n",
    "    \n",
    "    qc = qc.compose(QFT(num_qubits=num_cats,inverse=True),quantum_cats)\n",
    "    qc.measure(quantum_cats,purple_cats)\n",
    "    return qc"
   ]
  },
  {
   "cell_type": "code",
   "execution_count": 507,
   "id": "90b41ee8",
   "metadata": {},
   "outputs": [
    {
     "data": {
      "image/png": "[encoded data removed]",
      "text/plain": [
       "<Figure size 726.522x385.28 with 1 Axes>"
      ]
     },
     "execution_count": 507,
     "metadata": {},
     "output_type": "execute_result"
    }
   ],
   "source": [
    "# init variables\n",
    "pi = [0]*5\n",
    "pi_2 = [0]*4\n",
    "pi_4 = [0]*3\n",
    "pi_8 = [0]*2\n",
    "pi_16 = [0]\n",
    "\n",
    "\n",
    "# select the values \n",
    "pi[0] = 1\n",
    "\n",
    "pi[1] = 1\n",
    "pi_2[0] = 1\n",
    "\n",
    "pi[2] = 1\n",
    "pi_2[1] = 1\n",
    "pi_4[0] = 1\n",
    "\n",
    "qc = find_purple_cats(pi,pi_2,pi_4,pi_8,pi_16)\n",
    "qc.draw(\"mpl\")"
   ]
  },
  {
   "cell_type": "code",
   "execution_count": 508,
   "id": "096bc785",
   "metadata": {},
   "outputs": [
    {
     "name": "stdout",
     "output_type": "stream",
     "text": [
      "your answer is  11100\n",
      "Try again\n"
     ]
    }
   ],
   "source": [
    "qc = find_purple_cats(pi,pi_2,pi_4,pi_8,pi_16)\n",
    "counts = execute(qc,Aer.get_backend('qasm_simulator')).result().get_counts()\n",
    "sol=list(counts.keys())[0]\n",
    "\n",
    "print(\"your answer is \",sol)\n",
    "if purple_cats_numer == sol:\n",
    "    print(\"You Got it\")\n",
    "else:\n",
    "    print(\"Try again\")"
   ]
  },
  {
   "cell_type": "markdown",
   "id": "feb0be36",
   "metadata": {},
   "source": [
    "## Another modality\n",
    "\n",
    "There are two more considerations that if the purple cats are not the same as the ones we expect, then we must reconvert this, for this, we also have that the P-boxes can be positive or negative."
   ]
  },
  {
   "cell_type": "code",
   "execution_count": 509,
   "id": "df2ed4ec",
   "metadata": {},
   "outputs": [
    {
     "data": {
      "image/png": "[encoded data removed]",
      "text/plain": [
       "<Figure size 786.722x385.28 with 1 Axes>"
      ]
     },
     "execution_count": 509,
     "metadata": {},
     "output_type": "execute_result"
    }
   ],
   "source": [
    "# init variables\n",
    "pi = [0]*5\n",
    "pi_2 = [0]*4\n",
    "pi_4 = [0]*3\n",
    "pi_8 = [0]*2\n",
    "pi_16 = [0]\n",
    "\n",
    "\n",
    "# select the values \n",
    "pi[0] = -1\n",
    "\n",
    "pi[1] = 1\n",
    "pi_2[0] = 1\n",
    "\n",
    "pi[2] = 1\n",
    "pi_2[1] = 1\n",
    "pi_4[0] = 1\n",
    "\n",
    "qc = find_purple_cats(pi,pi_2,pi_4,pi_8,pi_16,True)\n",
    "qc.draw(\"mpl\")"
   ]
  },
  {
   "cell_type": "code",
   "execution_count": 510,
   "id": "18952201",
   "metadata": {},
   "outputs": [
    {
     "name": "stdout",
     "output_type": "stream",
     "text": [
      "your answer is  11100\n",
      "Try again\n"
     ]
    }
   ],
   "source": [
    "qc = find_purple_cats(pi,pi_2,pi_4,pi_8,pi_16)\n",
    "counts = execute(qc,Aer.get_backend('qasm_simulator')).result().get_counts()\n",
    "sol=list(counts.keys())[0]\n",
    "\n",
    "print(\"your answer is \",sol)\n",
    "if purple_cats_numer == sol:\n",
    "    print(\"You Got it\")\n",
    "else:\n",
    "    print(\"Try again\")"
   ]
  }
 ],
 "metadata": {
  "kernelspec": {
   "display_name": "Python 3",
   "language": "python",
   "name": "python3"
  },
  "language_info": {
   "codemirror_mode": {
    "name": "ipython",
    "version": 3
   },
   "file_extension": ".py",
   "mimetype": "text/x-python",
   "name": "python",
   "nbconvert_exporter": "python",
   "pygments_lexer": "ipython3",
   "version": "3.8.8"
  }
 },
 "nbformat": 4,
 "nbformat_minor": 5
}
