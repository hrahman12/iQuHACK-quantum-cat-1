{
  "cells": [
    {
      "cell_type": "markdown",
      "source": [
        "# Purple Cats\n",
        "\n",
        "## Objective\n",
        "\n",
        "This videogame aims to learn how a quantum circuit works and to do additions and subtractions from Draper's method, as we believe that with an application can help people learn about quantum computation.\n",
        "\n",
        "## Context\n",
        "In a laboratory dedicated to problems of quantum mechanics they have 5 cats as pets, some are green and others are purple. One of the research experiments were in several boxes called QFT, QFT$^{-1}$ and P with certain dephase, one day when they left the cats they forgot to keep the boxes in a place where the cats could not see them, consequently the cats got into the boxes and when the researchers arrived they realized that the cats were green. In this game we must consider the proper way to arrange the boxes in such a way that we find the purple cats in a specific porden since they only know the number of the cat by the collar they wear. \n",
        "\n",
        "\n",
        "![init_cat-2.png](attachment:init_cat-2.png)\n"
      ],
      "metadata": {},
      "id": "ab0c0e26"
    },
    {
      "cell_type": "markdown",
      "source": [
        "# Rules\n",
        "\n",
        "\n",
        "At the time the cats were found, only two boxes QFT and QFT$^{-1}$ were not moved, the first one at the beginning and the second one at the end, as shown in the following figure.\n",
        "\n",
        "![template.png](attachment:template.png)\n",
        "\n",
        "\n",
        "You have the following boxes in an unordered manner:\n",
        "\n",
        "- 5 box with $P({\\pi})$\n",
        "- 4 box with $P(\\frac{\\pi}{2})$\n",
        "- 3 box with $P(\\frac{\\pi}{4})$\n",
        "- 2 box with $P(\\frac{\\pi}{8})$\n",
        "- 1 box with $P(\\frac{\\pi}{16})$\n",
        "\n",
        "\n",
        "\n",
        "Find the way to find the purple cats by following the structure , where the boxes must be arranged in a row order for the cats, it is also possible that not all boxes can be used.\n",
        "\n",
        "\n",
        "You can select or not to put one or more boxes\n",
        "\n"
      ],
      "metadata": {},
      "id": "d03f849f"
    },
    {
      "cell_type": "markdown",
      "source": [
        "## Hints\n",
        "\n",
        "The researchers found the following 4 answers, with this information helping to find purple cats.\n",
        "\n",
        "\n",
        "\n",
        "![ex_10000.png](attachment:ex_10000.png)"
      ],
      "metadata": {},
      "id": "38ded684"
    },
    {
      "cell_type": "markdown",
      "source": [
        "![ex_01000.png](attachment:ex_01000.png)"
      ],
      "metadata": {},
      "id": "75b121e6"
    },
    {
      "cell_type": "markdown",
      "source": [
        "![ex_00100.png](attachment:ex_00100.png)"
      ],
      "metadata": {},
      "id": "4271c794"
    },
    {
      "cell_type": "markdown",
      "source": [
        "![ex_00010.png](attachment:ex_00010.png)"
      ],
      "metadata": {},
      "id": "36cae710"
    },
    {
      "cell_type": "markdown",
      "source": [
        "![ex_00001.png](attachment:ex_00001.png)"
      ],
      "metadata": {},
      "id": "2f427260"
    },
    {
      "cell_type": "markdown",
      "source": [
        "### Code to choose the random value\n",
        "\n",
        "\n",
        "Using the noise model methods of qiskit we can added some noise like i na real hardware and general a quantum circuit using Hadamards and Cnots gates to generate a random circuit. With the nosie model we cam  consider the noise in the gates X"
      ],
      "metadata": {},
      "id": "13b4ab44"
    },
    {
      "cell_type": "code",
      "source": [
        "import numpy as np\n",
        "\n",
        "\n",
        "from azure.quantum.qiskit import AzureQuantumProvider\n",
        "provider = AzureQuantumProvider(\n",
        "  resource_id=\"/subscriptions/b1d7f7f8-743f-458e-b3a0-3e09734d716d/resourceGroups/aq-hackathons/providers/Microsoft.Quantum/Workspaces/aq-hackathon-01\",\n",
        "  location=\"East US\"\n",
        ")\n",
        "\n",
        "# Qiskit libraries \n",
        "from qiskit import QuantumCircuit, transpile, Aer, IBMQ, execute, QuantumRegister, ClassicalRegister\n",
        "from qiskit.tools.jupyter import *\n",
        "from qiskit.visualization import *\n",
        "from qiskit.circuit.library import QFT\n",
        "\n",
        "\n",
        "\n",
        "#Nosie model\n",
        "#from qiskit.providers.aer.noise import NoiseModel\n",
        "#from qiskit.providers.aer.noise import QuantumError, ReadoutError\n",
        "#from qiskit.providers.aer.noise import pauli_error"
      ],
      "outputs": [],
      "execution_count": 11,
      "metadata": {},
      "id": "3e1abfb2"
    },
    {
      "cell_type": "code",
      "source": [
        "def noise_model(): # generate the noise model\n",
        "    p_gate1 = 0.1\n",
        "\n",
        "    # QuantumError objects\n",
        "    error_gate1 = pauli_error([('X',p_gate1), ('I', 1 - p_gate1)])\n",
        "    error_gate2 = error_gate1.tensor(error_gate1)\n",
        "\n",
        "    # Add errors to noise model\n",
        "    noise_bit_flip = NoiseModel()\n",
        "    noise_bit_flip.add_all_qubit_quantum_error(error_gate1, [\"u\"])\n",
        "    noise_bit_flip.add_all_qubit_quantum_error(error_gate2, [\"cx\"])\n",
        "\n",
        "    return noise_bit_flip\n",
        "\n",
        "# generate the circuti that do a QRNG\n",
        "def random_number(): \n",
        "    \n",
        "    # we  works with a generator of range (1,31)\n",
        "    # is improtant works with 5 qubits\n",
        "    circ = QuantumCircuit(5) \n",
        "    simulator = provider.get_backend('ionq.simulator')\n",
        "\n",
        "    #QRNS Circuit and we do 9 times\n",
        "    for i in range(9):\n",
        "        # if we put H in q0 some case we can obtain 0 in the output\n",
        "        #for this reason we  put X\n",
        "        circ.x(0) \n",
        "        circ.h(1)\n",
        "        circ.h(2)\n",
        "        circ.h(3)\n",
        "        circ.h(4)\n",
        "        circ.cx(0,1)\n",
        "        circ.cx(0,2)\n",
        "        circ.cx(0,3)\n",
        "        circ.cx(0,4)\n",
        "        circ.cx(1,2)\n",
        "        circ.cx(1,3)\n",
        "        circ.barrier()\n",
        "\n",
        "    circ.measure_all() # measure all the qubirs\n",
        "\n",
        "    # Consider the nosie model\n",
        "    #noise_m = noise_model()\n",
        "    \n",
        "    #get output\n",
        "    job = execute(circ, simulator,\n",
        "              #basis_gates=noise_m.basis_gates,#qiskit identify the basis gates\n",
        "                                            # where the qc works\n",
        "              shots= 1) # we put the noise in the noise model\n",
        "    counts = job.result().get_counts(0)\n",
        "\n",
        "\n",
        "    num=list(counts.keys())[0]   \n",
        "\n",
        "    return num"
      ],
      "outputs": [],
      "execution_count": 14,
      "metadata": {},
      "id": "5dd8bf79"
    },
    {
      "cell_type": "markdown",
      "source": [
        "### proof the random number\n",
        "\n",
        "We can call the method random_number() and return a bitstring with the expect output, where \n",
        "- 0 is equal a green cat\n",
        "- 1 is equal a purple cat"
      ],
      "metadata": {},
      "id": "9fadab6e"
    },
    {
      "cell_type": "code",
      "source": [
        "purple_cats_numer = random_number()\n",
        "purple_cats_numer"
      ],
      "outputs": [
        {
          "output_type": "stream",
          "name": "stdout",
          "text": "............"
        },
        {
          "output_type": "execute_result",
          "execution_count": 15,
          "data": {
            "text/plain": "'00001'"
          },
          "metadata": {}
        }
      ],
      "execution_count": 15,
      "metadata": {},
      "id": "b3cffb67"
    },
    {
      "cell_type": "markdown",
      "source": [
        "## Design the algorithm for the videogames\n",
        "\n",
        "We following the idea of the Draper addition, is neccesary use the QFT and  the inverse QFT, and for generate the data we can use the gates P, this is\n",
        "\n",
        "$$\\begin{split}P(\\lambda) =\n",
        "    \\begin{pmatrix}\n",
        "        1 & 0 \\\\\n",
        "        0 & e^{i\\lambda}\n",
        "    \\end{pmatrix}\\end{split}$$\n",
        "    \n",
        "    \n",
        "Whit this in a certain order of  $\\lambda$ is important consider the next expression \n",
        "\n",
        "$$e^{i 2 \\pi / 2^{n}}$$\n",
        "\n",
        "\n",
        "- if $n = 1$ we can obtain  $e^{i  \\pi }$\n",
        "\n",
        "- if $n = 2$ we can obtain  $e^{i  \\frac{\\pi} {2}}$\n",
        "\n",
        "- if $n = 3$ we can obtain  $e^{i  \\frac{\\pi} {4}}$\n",
        "\n",
        "- if $n = 4$ we can obtain  $e^{i  \\frac{\\pi} {8}}$\n",
        "\n",
        "- if $n = 5$ we can obtain  $e^{i  \\frac{\\pi} {16}}$\n",
        "\n",
        "and we only have 5 cats, so is the same values for the boxes"
      ],
      "metadata": {},
      "id": "a80fa6dc"
    },
    {
      "cell_type": "code",
      "source": [
        "#convert  integer value to bin value for the quantum circuit\n",
        "def add_value(qc,data_qubits,const): \n",
        "    #a = bin(const)[2:]\n",
        "    #while len(a) < data_qubits:\n",
        "    #    a = '0'+a\n",
        "    a=const[::-1]\n",
        "    list_a = [0]*data_qubits\n",
        "    for i in range(data_qubits): \n",
        "        if a[i] =='1':\n",
        "            k = 0\n",
        "            for j in range(i,data_qubits):\n",
        "                list_a[data_qubits-j-1] +=np.pi/float(2**(k)) \n",
        "                k+=1\n",
        "\n",
        "    for i in range(data_qubits):\n",
        "        if list_a[i] != 0:\n",
        "            qc.p(list_a[i],i)\n",
        "            k+=1\n"
      ],
      "outputs": [],
      "execution_count": 16,
      "metadata": {},
      "id": "013101a4"
    },
    {
      "cell_type": "code",
      "source": [
        "def find_purple_cats(pi,pi_2,pi_4,pi_8,pi_16,flag=False):\n",
        "    num_cats = 5\n",
        "    quantum_cats = QuantumRegister(num_cats, \"data\")\n",
        "    purple_cats = ClassicalRegister(num_cats,\"oracle\")\n",
        "    qc = QuantumCircuit(quantum_cats,purple_cats)\n",
        "\n",
        "    len_pi = len(pi)\n",
        "    len_pi_2 = len(pi_2)\n",
        "    len_pi_4 = len(pi_4)\n",
        "    len_pi_8 = len(pi_8)\n",
        "    len_pi_16 = len(pi_16)\n",
        "\n",
        "    qc.h(range(num_cats))\n",
        "    \n",
        "    if flag: \n",
        "        add_value(qc,5, random_number())\n",
        "    for i in range(len_pi-1,-1,-1):\n",
        "        if pi[i]!= 0 :\n",
        "            qc.p(pi[i]*np.pi,i)\n",
        "            \n",
        "    for i in range(len_pi_2-1,-1,-1):\n",
        "        if pi_2[i]!= 0 :\n",
        "            qc.p(pi_2[i]*np.pi/2,i)\n",
        "            \n",
        "    for i in range(len_pi_4-1,-1,-1):\n",
        "        if pi_4[i]!= 0 :\n",
        "            qc.p(pi_4[i]*np.pi/4,i)\n",
        "\n",
        "            \n",
        "    for i in range(len_pi_8-1,-1,-1):\n",
        "        if pi_8[i]!= 0 :\n",
        "            qc.p(pi_8[i]*np.pi/8,i)\n",
        "            \n",
        "            \n",
        "    for i in range(len_pi_16-1,-1,-1):\n",
        "        if pi_16[i]!= 0 :\n",
        "            qc.p(pi_16[i]*np.pi/16,i)   \n",
        "    \n",
        "    qc = qc.compose(QFT(num_qubits=num_cats,inverse=True),quantum_cats)\n",
        "    qc.measure(quantum_cats,purple_cats)\n",
        "    return qc"
      ],
      "outputs": [],
      "execution_count": 17,
      "metadata": {},
      "id": "2610a7c5"
    },
    {
      "cell_type": "code",
      "source": [
        "# init variables\n",
        "pi = [0]*5\n",
        "pi_2 = [0]*4\n",
        "pi_4 = [0]*3\n",
        "pi_8 = [0]*2\n",
        "pi_16 = [0]\n",
        "\n",
        "\n",
        "# select the values \n",
        "pi[0] = 1\n",
        "\n",
        "pi[1] = 1\n",
        "pi_2[0] = 1\n",
        "\n",
        "pi[2] = 1\n",
        "pi_2[1] = 1\n",
        "pi_4[0] = 1\n",
        "\n",
        "qc = find_purple_cats(pi,pi_2,pi_4,pi_8,pi_16)\n",
        "#qc.draw(\"mpl\")"
      ],
      "outputs": [],
      "execution_count": 19,
      "metadata": {},
      "id": "90b41ee8"
    },
    {
      "cell_type": "code",
      "source": [
        "qc = find_purple_cats(pi,pi_2,pi_4,pi_8,pi_16)\n",
        "counts = execute(qc,provider.get_backend('ionq.simulator')).result().get_counts()\n",
        "sol=list(counts.keys())[0]\n",
        "\n",
        "print(\"your answer is \",sol)\n",
        "if purple_cats_numer == sol:\n",
        "    print(\"You Got it\")\n",
        "else:\n",
        "    print(\"Try again\")"
      ],
      "outputs": [
        {
          "output_type": "stream",
          "name": "stdout",
          "text": ".............your answer is  11100\nTry again\n"
        }
      ],
      "execution_count": 21,
      "metadata": {},
      "id": "096bc785"
    },
    {
      "cell_type": "markdown",
      "source": [
        "## Another modality\n",
        "\n",
        "There are two more considerations that if the purple cats are not the same as the ones we expect, then we must reconvert this, for this, we also have that the P-boxes can be positive or negative."
      ],
      "metadata": {},
      "id": "feb0be36"
    },
    {
      "cell_type": "code",
      "source": [
        "# init variables\n",
        "pi = [0]*5\n",
        "pi_2 = [0]*4\n",
        "pi_4 = [0]*3\n",
        "pi_8 = [0]*2\n",
        "pi_16 = [0]\n",
        "\n",
        "\n",
        "# select the values \n",
        "pi[0] = -1\n",
        "\n",
        "pi[1] = 1\n",
        "pi_2[0] = 1\n",
        "\n",
        "pi[2] = 1\n",
        "pi_2[1] = 1\n",
        "pi_4[0] = 1\n",
        "\n",
        "qc = find_purple_cats(pi,pi_2,pi_4,pi_8,pi_16,True)\n",
        "#qc.draw(\"mpl\")"
      ],
      "outputs": [
        {
          "output_type": "stream",
          "name": "stdout",
          "text": "............"
        }
      ],
      "execution_count": 22,
      "metadata": {},
      "id": "df2ed4ec"
    },
    {
      "cell_type": "code",
      "source": [
        "qc = find_purple_cats(pi,pi_2,pi_4,pi_8,pi_16)\n",
        "counts = execute(qc,Aer.get_backend('qasm_simulator')).result().get_counts()\n",
        "sol=list(counts.keys())[0]\n",
        "\n",
        "print(\"your answer is \",sol)\n",
        "if purple_cats_numer == sol:\n",
        "    print(\"You Got it\")\n",
        "else:\n",
        "    print(\"Try again\")"
      ],
      "outputs": [
        {
          "output_type": "stream",
          "name": "stdout",
          "text": "your answer is  11100\nTry again\n"
        }
      ],
      "execution_count": 510,
      "metadata": {},
      "id": "18952201"
    }
  ],
  "metadata": {
    "kernelspec": {
      "name": "python3",
      "language": "python",
      "display_name": "Python 3 (ipykernel)"
    },
    "language_info": {
      "name": "python",
      "version": "3.7.12",
      "mimetype": "text/x-python",
      "codemirror_mode": {
        "name": "ipython",
        "version": 3
      },
      "pygments_lexer": "ipython3",
      "nbconvert_exporter": "python",
      "file_extension": ".py"
    },
    "kernel_info": {
      "name": "python3"
    },
    "nteract": {
      "version": "nteract-front-end@1.0.0"
    }
  },
  "nbformat": 4,
  "nbformat_minor": 5
}