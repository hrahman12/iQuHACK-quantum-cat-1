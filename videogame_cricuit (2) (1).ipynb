{
 "cells": [
  {
   "cell_type": "code",
   "execution_count": 2,
   "id": "a26578d9",
   "metadata": {},
   "outputs": [],
   "source": [
    "import numpy as np\n",
    "\n",
    "# Qiskit libraries \n",
    "from qiskit import QuantumCircuit, transpile, Aer, IBMQ, execute, QuantumRegister, ClassicalRegister\n",
    "from qiskit.tools.jupyter import *\n",
    "from qiskit.visualization import *\n",
    "from qiskit.circuit.library import QFT"
   ]
  },
  {
   "cell_type": "code",
   "execution_count": 1,
   "id": "a2362af2-ceb8-46d2-8ca8-0e01f7847db4",
   "metadata": {},
   "outputs": [
    {
     "name": "stdout",
     "output_type": "stream",
     "text": [
      "Collecting qiskit-ionq\n",
      "  Downloading qiskit_ionq-0.1.4-py3-none-any.whl (31 kB)\n",
      "Requirement already satisfied: qiskit-terra>=0.17.4 in /opt/conda/lib/python3.8/site-packages (from qiskit-ionq) (0.19.1)\n",
      "Requirement already satisfied: requests>=2.24.0 in /opt/conda/lib/python3.8/site-packages (from qiskit-ionq) (2.27.1)\n",
      "Requirement already satisfied: tweedledum<2.0,>=1.1 in /opt/conda/lib/python3.8/site-packages (from qiskit-terra>=0.17.4->qiskit-ionq) (1.1.1)\n",
      "Requirement already satisfied: stevedore>=3.0.0 in /opt/conda/lib/python3.8/site-packages (from qiskit-terra>=0.17.4->qiskit-ionq) (3.5.0)\n",
      "Requirement already satisfied: scipy>=1.5 in /opt/conda/lib/python3.8/site-packages (from qiskit-terra>=0.17.4->qiskit-ionq) (1.7.3)\n",
      "Requirement already satisfied: symengine>=0.8 in /opt/conda/lib/python3.8/site-packages (from qiskit-terra>=0.17.4->qiskit-ionq) (0.8.1)\n",
      "Requirement already satisfied: retworkx>=0.10.1 in /opt/conda/lib/python3.8/site-packages (from qiskit-terra>=0.17.4->qiskit-ionq) (0.11.0)\n",
      "Requirement already satisfied: numpy>=1.17 in /opt/conda/lib/python3.8/site-packages (from qiskit-terra>=0.17.4->qiskit-ionq) (1.22.1)\n",
      "Requirement already satisfied: psutil>=5 in /opt/conda/lib/python3.8/site-packages (from qiskit-terra>=0.17.4->qiskit-ionq) (5.9.0)\n",
      "Requirement already satisfied: dill>=0.3 in /opt/conda/lib/python3.8/site-packages (from qiskit-terra>=0.17.4->qiskit-ionq) (0.3.4)\n",
      "Requirement already satisfied: sympy>=1.3 in /opt/conda/lib/python3.8/site-packages (from qiskit-terra>=0.17.4->qiskit-ionq) (1.9)\n",
      "Requirement already satisfied: python-constraint>=1.4 in /opt/conda/lib/python3.8/site-packages (from qiskit-terra>=0.17.4->qiskit-ionq) (1.4.0)\n",
      "Requirement already satisfied: python-dateutil>=2.8.0 in /opt/conda/lib/python3.8/site-packages (from qiskit-terra>=0.17.4->qiskit-ionq) (2.8.2)\n",
      "Requirement already satisfied: ply>=3.10 in /opt/conda/lib/python3.8/site-packages (from qiskit-terra>=0.17.4->qiskit-ionq) (3.11)\n",
      "Requirement already satisfied: six>=1.5 in /opt/conda/lib/python3.8/site-packages (from python-dateutil>=2.8.0->qiskit-terra>=0.17.4->qiskit-ionq) (1.16.0)\n",
      "Requirement already satisfied: idna<4,>=2.5 in /opt/conda/lib/python3.8/site-packages (from requests>=2.24.0->qiskit-ionq) (3.3)\n",
      "Requirement already satisfied: certifi>=2017.4.17 in /opt/conda/lib/python3.8/site-packages (from requests>=2.24.0->qiskit-ionq) (2021.10.8)\n",
      "Requirement already satisfied: urllib3<1.27,>=1.21.1 in /opt/conda/lib/python3.8/site-packages (from requests>=2.24.0->qiskit-ionq) (1.26.8)\n",
      "Requirement already satisfied: charset-normalizer~=2.0.0 in /opt/conda/lib/python3.8/site-packages (from requests>=2.24.0->qiskit-ionq) (2.0.10)\n",
      "Requirement already satisfied: pbr!=2.1.0,>=2.0.0 in /opt/conda/lib/python3.8/site-packages (from stevedore>=3.0.0->qiskit-terra>=0.17.4->qiskit-ionq) (5.8.0)\n",
      "Requirement already satisfied: mpmath>=0.19 in /opt/conda/lib/python3.8/site-packages (from sympy>=1.3->qiskit-terra>=0.17.4->qiskit-ionq) (1.2.1)\n",
      "Installing collected packages: qiskit-ionq\n",
      "Successfully installed qiskit-ionq-0.1.4\n",
      "Note: you may need to restart the kernel to use updated packages.\n"
     ]
    }
   ],
   "source": [
    "pip install qiskit-ionq"
   ]
  },
  {
   "cell_type": "code",
   "execution_count": 3,
   "id": "dffd8903",
   "metadata": {},
   "outputs": [],
   "source": [
    "def add_value(data_qubits: int, const: int):\n",
    "    qc = QuantumCircuit(data_qubits)\n",
    "    a = bin(const)[2:]\n",
    "    while len(a) < data_qubits:\n",
    "        a = '0'+a\n",
    "    a=a[::-1]\n",
    "    list_a = [0]*data_qubits\n",
    "    for i in range(data_qubits): \n",
    "        if a[i] =='1':\n",
    "            k = 0\n",
    "            for j in range(i,data_qubits):\n",
    "                list_a[data_qubits-j-1] +=np.pi/float(2**(k)) \n",
    "                k+=1\n",
    "\n",
    "    for i in range(data_qubits):\n",
    "        if list_a[i] != 0:\n",
    "            qc.p(list_a[i],i)\n",
    "            k+=1\n",
    "\n",
    "    return qc"
   ]
  },
  {
   "cell_type": "code",
   "execution_count": 4,
   "id": "28d73c3a",
   "metadata": {},
   "outputs": [
    {
     "name": "stdout",
     "output_type": "stream",
     "text": [
      "Traceback \u001b[1;36m(most recent call last)\u001b[0m:\n",
      "\u001b[1;36m  File \u001b[1;32m/opt/conda/lib/python3.8/site-packages/IPython/core/compilerop.py:105\u001b[1;36m in \u001b[1;35mast_parse\u001b[1;36m\u001b[0m\n",
      "\u001b[1;33m    return compile(source, filename, symbol, self.flags | PyCF_ONLY_AST, 1)\u001b[0m\n",
      "\u001b[1;36m  Input \u001b[1;32mIn [4]\u001b[1;36m\u001b[0m\n",
      "\u001b[1;33m    add_value(data_qubits: int, const: int)\u001b[0m\n",
      "\u001b[1;37m                         ^\u001b[0m\n",
      "\u001b[1;31mSyntaxError\u001b[0m\u001b[1;31m:\u001b[0m invalid syntax\n",
      "\n",
      "Use %tb to get the full traceback.\n"
     ]
    },
    {
     "data": {
      "text/html": [
       "\n",
       "<style>\n",
       ".button {\n",
       "  border: none;\n",
       "  color: white;\n",
       "  padding: 4px 8px;\n",
       "  text-align: center;\n",
       "  text-decoration: none;\n",
       "  display: inline-block;\n",
       "  font-size: 12px;\n",
       "  margin: 4px 2px;\n",
       "  transition-duration: 0.2s;\n",
       "  cursor: pointer;\n",
       "}\n",
       ".iqx-button {\n",
       "  background-color: #0f62fe; \n",
       "  color: white; \n",
       "}\n",
       ".iqx-button:hover {\n",
       "  background-color: #0043ce;\n",
       "  color: white;\n",
       "}\n",
       "</style>\n",
       "<a href=\"https://stackoverflow.com/search?q=SyntaxError: invalid syntax\" target='_blank'><button class='button iqx-button'>Search for solution online</button></a>\n"
      ],
      "text/plain": [
       "<IPython.core.display.HTML object>"
      ]
     },
     "metadata": {},
     "output_type": "display_data"
    }
   ],
   "source": [
    "def find_number(q0,q1,q2,q3,q4):\n",
    "    num_cats = 5\n",
    "    quantum_cats = QuantumRegister(num_cats, \"data\")\n",
    "    purple_cats = ClassicalRegister(num_cats,\"oracle\")\n",
    "    qc = QuantumCircuit(quantum_cats,purple_cats)\n",
    "\n",
    "\n",
    "    qc.h(range(num_cats))\n",
    "    add_value(data_qubits: int, const: int)\n",
    "\n",
    "    qc.p(q0*np.pi/16,0)\n",
    "    qc.p(q1*np.pi/8,1)\n",
    "    qc.p(q2*np.pi/4,2)\n",
    "    qc.p(q3*np.pi/2,3)\n",
    "    qc.p(q4*np.pi,4)\n",
    "\n",
    "    qc = qc.compose(QFT(num_qubits=num_cats,inverse=True),quantum_cats)\n",
    "    qc.measure(quantum_cats,purple_cats)\n",
    "    return qc\n",
    "    #qc.draw(\"mpl\")"
   ]
  },
  {
   "cell_type": "code",
   "execution_count": 5,
   "id": "3fa0db0c",
   "metadata": {},
   "outputs": [
    {
     "name": "stdout",
     "output_type": "stream",
     "text": [
      "Traceback \u001b[1;36m(most recent call last)\u001b[0m:\n",
      "\u001b[1;36m  Input \u001b[1;32mIn [5]\u001b[1;36m in \u001b[1;35m<module>\u001b[1;36m\u001b[0m\n",
      "\u001b[1;33m    qc = find_number(7,7,7,3,1)\u001b[0m\n",
      "\u001b[1;31mNameError\u001b[0m\u001b[1;31m:\u001b[0m name 'find_number' is not defined\n",
      "\n",
      "Use %tb to get the full traceback.\n"
     ]
    },
    {
     "data": {
      "text/html": [
       "\n",
       "<style>\n",
       ".button {\n",
       "  border: none;\n",
       "  color: white;\n",
       "  padding: 4px 8px;\n",
       "  text-align: center;\n",
       "  text-decoration: none;\n",
       "  display: inline-block;\n",
       "  font-size: 12px;\n",
       "  margin: 4px 2px;\n",
       "  transition-duration: 0.2s;\n",
       "  cursor: pointer;\n",
       "}\n",
       ".iqx-button {\n",
       "  background-color: #0f62fe; \n",
       "  color: white; \n",
       "}\n",
       ".iqx-button:hover {\n",
       "  background-color: #0043ce;\n",
       "  color: white;\n",
       "}\n",
       "</style>\n",
       "<a href=\"https://stackoverflow.com/search?q=NameError: name 'find_number' is not defined\" target='_blank'><button class='button iqx-button'>Search for solution online</button></a>\n"
      ],
      "text/plain": [
       "<IPython.core.display.HTML object>"
      ]
     },
     "metadata": {},
     "output_type": "display_data"
    }
   ],
   "source": [
    "qc = find_number(7,7,7,3,1)\n",
    "counts = execute(qc,Aer.get_backend('qasm_simulator')).result().get_counts()\n",
    "print((counts))"
   ]
  },
  {
   "cell_type": "code",
   "execution_count": null,
   "id": "9b16ce7b-ede0-4d88-b4cb-f727990dc73b",
   "metadata": {},
   "outputs": [],
   "source": [
    "from qiskit_ionq import IonQProvider\n",
    "provider = IonQProvider(\"token\")"
   ]
  },
  {
   "cell_type": "code",
   "execution_count": null,
   "id": "86fc16e3-5873-4f90-a04f-e43aeeca958d",
   "metadata": {},
   "outputs": [],
   "source": [
    "export QISKIT_IONQ_API_TOKEN=\"token\""
   ]
  },
  {
   "cell_type": "code",
   "execution_count": null,
   "id": "35871122-1d7a-4480-a75c-175c692de5bc",
   "metadata": {},
   "outputs": [],
   "source": [
    "from qiskit_ionq import IonQProvider\n",
    "provider = IonQProvider()"
   ]
  },
  {
   "cell_type": "code",
   "execution_count": null,
   "id": "401246f8-9533-4158-9a0e-c062a6e8f564",
   "metadata": {},
   "outputs": [],
   "source": [
    "# Show all backends:\n",
    "print(provider.backends())"
   ]
  },
  {
   "cell_type": "code",
   "execution_count": null,
   "id": "40aaa547-b9ae-4f7d-af12-18bf7d19ef10",
   "metadata": {},
   "outputs": [],
   "source": [
    "# Get IonQ's simulator backend:\n",
    "simulator_backend = provider.get_backend(\"ionq_simulator\")"
   ]
  },
  {
   "cell_type": "code",
   "execution_count": null,
   "id": "c38478fb-cebe-4264-9041-c200a77bf660",
   "metadata": {},
   "outputs": [],
   "source": [
    "qpu_backend = provider.get_backend(\"ionq_qpu\")\n",
    "qpu_job = qpu_backend.run(qc) # if you don’t pass a shots kwarg, it defaults to 1024"
   ]
  },
  {
   "cell_type": "code",
   "execution_count": null,
   "id": "94764cc4-3ed9-48a9-9f4f-1d09ef56d4ae",
   "metadata": {},
   "outputs": [],
   "source": [
    "from qiskit.providers.jobstatus import JobStatus\n",
    "import time\n",
    "# Check if job is done\n",
    "while qpu_job.status() is not JobStatus.DONE:\n",
    "\tprint(\"Job status is\", qpu_job.status() )\n",
    "\ttime.sleep(60)\n",
    "\n",
    "# once we break out of that while loop, we know our job is finished\n",
    "print(\"Job status is\", qpu_job.status() )\n",
    "print(qpu_job.get_counts()) # these counts are the “true” counts from the actual QPU Run"
   ]
  },
  {
   "cell_type": "code",
   "execution_count": null,
   "id": "71bbfc1f-eb0c-4f43-b270-7ed9588bca21",
   "metadata": {},
   "outputs": [],
   "source": [
    "# for ease of use, the output probabilities (counts/shots) are still available:\n",
    "print(qpu_job.get_probabilities())"
   ]
  },
  {
   "cell_type": "code",
   "execution_count": null,
   "id": "4b9bd2ce-daa2-4f41-8acd-05f73c812a45",
   "metadata": {},
   "outputs": [],
   "source": []
  }
 ],
 "metadata": {
  "kernelspec": {
   "display_name": "Qiskit v0.34.1 (ipykernel)",
   "language": "python",
   "name": "python3"
  },
  "language_info": {
   "codemirror_mode": {
    "name": "ipython",
    "version": 3
   },
   "file_extension": ".py",
   "mimetype": "text/x-python",
   "name": "python",
   "nbconvert_exporter": "python",
   "pygments_lexer": "ipython3",
   "version": "3.8.12"
  },
  "widgets": {
   "application/vnd.jupyter.widget-state+json": {
    "state": {
     "0a870f4b8f3c4c3398cabe99841b7005": {
      "model_module": "@jupyter-widgets/controls",
      "model_module_version": "1.5.0",
      "model_name": "DescriptionStyleModel",
      "state": {
       "description_width": ""
      }
     },
     "14d82cbfa5414e66ad1051fd99fcf1af": {
      "model_module": "@jupyter-widgets/base",
      "model_module_version": "1.2.0",
      "model_name": "LayoutModel",
      "state": {
       "margin": "0px 0px 0px 37px",
       "width": "600px"
      }
     },
     "290ada53aee245f3898cc7064709a098": {
      "model_module": "@jupyter-widgets/controls",
      "model_module_version": "1.5.0",
      "model_name": "HTMLModel",
      "state": {
       "layout": "IPY_MODEL_48b9bbdf37c74b53967eb2a39d89f364",
       "style": "IPY_MODEL_a63f662b8dd0435b83020c3b24d3a465",
       "value": "<h5>Job ID</h5>"
      }
     },
     "31b3c8b4eeae491e8e2c4cde0047b78f": {
      "model_module": "@jupyter-widgets/controls",
      "model_module_version": "1.5.0",
      "model_name": "HBoxModel",
      "state": {
       "children": [
        "IPY_MODEL_290ada53aee245f3898cc7064709a098",
        "IPY_MODEL_c2c31f6a1bd74200830c33084ab98547",
        "IPY_MODEL_62c3d60a23d4465783d99a63c874bbff",
        "IPY_MODEL_6b18154162b94c10ba44a763d3e0df29",
        "IPY_MODEL_ed28d723af3241ddaefb0f4286f1094c"
       ],
       "layout": "IPY_MODEL_14d82cbfa5414e66ad1051fd99fcf1af"
      }
     },
     "48b9bbdf37c74b53967eb2a39d89f364": {
      "model_module": "@jupyter-widgets/base",
      "model_module_version": "1.2.0",
      "model_name": "LayoutModel",
      "state": {
       "width": "190px"
      }
     },
     "4b860f8a554b4767ab31b3fb4f91ff86": {
      "model_module": "@jupyter-widgets/controls",
      "model_module_version": "1.5.0",
      "model_name": "DescriptionStyleModel",
      "state": {
       "description_width": ""
      }
     },
     "4c6e5c2d0dfc48c1b231f20956000d03": {
      "model_module": "@jupyter-widgets/base",
      "model_module_version": "1.2.0",
      "model_name": "LayoutModel",
      "state": {
       "grid_template_areas": "\n                                       \". . . . right \"\n                                        ",
       "grid_template_columns": "20% 20% 20% 20% 20%",
       "width": "100%"
      }
     },
     "54e734da24604ff29f64328cec37087d": {
      "model_module": "@jupyter-widgets/base",
      "model_module_version": "1.2.0",
      "model_name": "LayoutModel",
      "state": {
       "width": "145px"
      }
     },
     "62c3d60a23d4465783d99a63c874bbff": {
      "model_module": "@jupyter-widgets/controls",
      "model_module_version": "1.5.0",
      "model_name": "HTMLModel",
      "state": {
       "layout": "IPY_MODEL_6e3206f7c0924b91bbfe1f6da96f4f2f",
       "style": "IPY_MODEL_facf1d13a6f5412bacb4f0f68e10fe42",
       "value": "<h5>Status</h5>"
      }
     },
     "6b18154162b94c10ba44a763d3e0df29": {
      "model_module": "@jupyter-widgets/controls",
      "model_module_version": "1.5.0",
      "model_name": "HTMLModel",
      "state": {
       "layout": "IPY_MODEL_adcb03b2b0fa4a79a938645db6e752ec",
       "style": "IPY_MODEL_ab579d50a15b4b8fb7e61594900107f5",
       "value": "<h5>Queue</h5>"
      }
     },
     "6c75838dc6774620a6631619acaae6f7": {
      "model_module": "@jupyter-widgets/controls",
      "model_module_version": "1.5.0",
      "model_name": "GridBoxModel",
      "state": {
       "children": [
        "IPY_MODEL_d2e351c81e64467c911ba1d65611030f"
       ],
       "layout": "IPY_MODEL_4c6e5c2d0dfc48c1b231f20956000d03"
      }
     },
     "6e3206f7c0924b91bbfe1f6da96f4f2f": {
      "model_module": "@jupyter-widgets/base",
      "model_module_version": "1.2.0",
      "model_name": "LayoutModel",
      "state": {
       "width": "95px"
      }
     },
     "8c597c36912046c7b45e328ad5a318ee": {
      "model_module": "@jupyter-widgets/base",
      "model_module_version": "1.2.0",
      "model_name": "LayoutModel",
      "state": {
       "grid_area": "right",
       "padding": "0px 0px 0px 0px",
       "width": "70px"
      }
     },
     "a63f662b8dd0435b83020c3b24d3a465": {
      "model_module": "@jupyter-widgets/controls",
      "model_module_version": "1.5.0",
      "model_name": "DescriptionStyleModel",
      "state": {
       "description_width": ""
      }
     },
     "ab579d50a15b4b8fb7e61594900107f5": {
      "model_module": "@jupyter-widgets/controls",
      "model_module_version": "1.5.0",
      "model_name": "DescriptionStyleModel",
      "state": {
       "description_width": ""
      }
     },
     "adcb03b2b0fa4a79a938645db6e752ec": {
      "model_module": "@jupyter-widgets/base",
      "model_module_version": "1.2.0",
      "model_name": "LayoutModel",
      "state": {
       "width": "70px"
      }
     },
     "c2c31f6a1bd74200830c33084ab98547": {
      "model_module": "@jupyter-widgets/controls",
      "model_module_version": "1.5.0",
      "model_name": "HTMLModel",
      "state": {
       "layout": "IPY_MODEL_54e734da24604ff29f64328cec37087d",
       "style": "IPY_MODEL_4b860f8a554b4767ab31b3fb4f91ff86",
       "value": "<h5>Backend</h5>"
      }
     },
     "d03345e93a3a4826aa66fc5d9bb762f5": {
      "model_module": "@jupyter-widgets/controls",
      "model_module_version": "1.5.0",
      "model_name": "ButtonStyleModel",
      "state": {}
     },
     "d2e351c81e64467c911ba1d65611030f": {
      "model_module": "@jupyter-widgets/controls",
      "model_module_version": "1.5.0",
      "model_name": "ButtonModel",
      "state": {
       "button_style": "primary",
       "description": "Clear",
       "layout": "IPY_MODEL_8c597c36912046c7b45e328ad5a318ee",
       "style": "IPY_MODEL_d03345e93a3a4826aa66fc5d9bb762f5"
      }
     },
     "d4f12aa8a9ee46fc8fba99161296d4d1": {
      "model_module": "@jupyter-widgets/base",
      "model_module_version": "1.2.0",
      "model_name": "LayoutModel",
      "state": {}
     },
     "d8926e2a140d4407a4c67da1bd521a90": {
      "model_module": "@jupyter-widgets/base",
      "model_module_version": "1.2.0",
      "model_name": "LayoutModel",
      "state": {
       "margin": "0px 0px 10px 0px"
      }
     },
     "ed28d723af3241ddaefb0f4286f1094c": {
      "model_module": "@jupyter-widgets/controls",
      "model_module_version": "1.5.0",
      "model_name": "HTMLModel",
      "state": {
       "layout": "IPY_MODEL_d4f12aa8a9ee46fc8fba99161296d4d1",
       "style": "IPY_MODEL_0a870f4b8f3c4c3398cabe99841b7005",
       "value": "<h5>Message</h5>"
      }
     },
     "eef52ba717d44cae8d220bc82c7a8346": {
      "model_module": "@jupyter-widgets/controls",
      "model_module_version": "1.5.0",
      "model_name": "DescriptionStyleModel",
      "state": {
       "description_width": ""
      }
     },
     "f828468bf2f84c1eab25e2d0d8172b41": {
      "model_module": "@jupyter-widgets/controls",
      "model_module_version": "1.5.0",
      "model_name": "HTMLModel",
      "state": {
       "layout": "IPY_MODEL_d8926e2a140d4407a4c67da1bd521a90",
       "style": "IPY_MODEL_eef52ba717d44cae8d220bc82c7a8346",
       "value": "<p style='font-family: IBM Plex Sans, Arial, Helvetica, sans-serif; font-size: 20px; font-weight: medium;'>Circuit Properties</p>"
      }
     },
     "facf1d13a6f5412bacb4f0f68e10fe42": {
      "model_module": "@jupyter-widgets/controls",
      "model_module_version": "1.5.0",
      "model_name": "DescriptionStyleModel",
      "state": {
       "description_width": ""
      }
     }
    },
    "version_major": 2,
    "version_minor": 0
   }
  }
 },
 "nbformat": 4,
 "nbformat_minor": 5
}
